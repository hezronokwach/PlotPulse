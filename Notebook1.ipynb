{
 "cells": [
  {
   "cell_type": "code",
   "execution_count": null,
   "id": "b01e58c1",
   "metadata": {},
   "outputs": [],
   "source": [
    "import pandas as pd\n",
    "import matplotlib.pyplot as plt\n",
    "\n",
    "df = pd.DataFrame({\n",
    "        'name':['christopher','marion','maria','mia','clement','randy','remi'],\n",
    "        'age':[70,30,22,19,45,33,20],\n",
    "        'gender':['M','F','F','F','M','M','M'],\n",
    "        'state':['california','dc','california','dc','california','new york','porto'],\n",
    "        'num_children':[2,0,0,3,8,1,4],\n",
    "        'num_pets':[5,1,0,5,2,2,3]\n",
    "    })\n",
    "\n",
    "# plot 1\n",
    "plt.figure(figsize=(10, 6))\n",
    "plt.bar(df[\"name\"], df[\"age\"], color=\"blue\", label=\"age\")\n",
    "plt.title(\"Age per name\")\n",
    "plt.xlabel(\"name\")\n",
    "plt.ylabel(\"Age\")\n",
    "plt.yticks(range(0, 71, 10))\n",
    "plt.legend()\n",
    "plt.savefig(\"age_per_name.png\")\n",
    "plt.show()"
   ]
  },
  {
   "cell_type": "code",
   "execution_count": null,
   "id": "1df201a6",
   "metadata": {},
   "outputs": [],
   "source": [
    "import pandas as pd\n",
    "import matplotlib.pyplot as plt\n",
    "import numpy as np\n",
    "\n",
    "df = pd.DataFrame({\n",
    "        'name':['christopher','marion','maria','mia','clement','randy','remi'],\n",
    "        'age':[70,30,22,19,45,33,20],\n",
    "        'gender':['M','F','F','F','M','M','M'],\n",
    "        'state':['california','dc','california','dc','california','new york','porto'],\n",
    "        'num_children':[4,2,1,0,3,1,0],\n",
    "        'num_pets':[5,1,0,2,2,2,3]\n",
    "        })\n",
    "\n",
    "plt.figure(figsize=(10, 6))\n",
    "plt.scatter(df['age'], df['num_children'], color='red')\n",
    "plt.title('Scatter plot: Number of children and age')\n",
    "plt.xlabel('age')\n",
    "plt.ylabel('num_children')\n",
    "plt.xticks([0, 20, 30, 40, 50, 60, 70])\n",
    "plt.yticks(np.arange(df['num_children'].min(), df['num_children'].max() + 1, 0.5))\n",
    "plt.savefig('scatter_age_children.png')\n",
    "plt.show()"
   ]
  },
  {
   "cell_type": "code",
   "execution_count": null,
   "id": "c6d1760e",
   "metadata": {},
   "outputs": [],
   "source": [
    "import matplotlib.pyplot as plt\n",
    "\n",
    "x = [1, 4, 5, 6, 7]\n",
    "y = [2, 6, 3, 6, 3]\n",
    "\n",
    "plt.figure(figsize=(8, 6))\n",
    "\n",
    "plt.plot(x, y, color='red', linestyle='dashdot', linewidth=3)\n",
    "\n",
    "plt.plot(x, y, 'o', color='blue', markersize=12)\n",
    "\n",
    "plt.title('Diplay maker')\n",
    "plt.xlabel('x-axis')\n",
    "plt.ylabel('y-axis')\n",
    "\n",
    "plt.xlim(1, 8)\n",
    "plt.ylim(1, 8)\n",
    "\n",
    "plt.xticks(range(1, 9))\n",
    "plt.yticks(range(1, 9))\n",
    "\n",
    "plt.grid(True)\n",
    "plt.savefig('display_maker.png')\n",
    "plt.show()"
   ]
  },
  {
   "cell_type": "code",
   "execution_count": null,
   "id": "twin_axes_cell",
   "metadata": {},
   "outputs": [],
   "source": [
    "left_data = [5, 7, 11, 13, 17]\n",
    "right_data = [0.1, 0.2, 0.4, 0.8, -1.6]\n",
    "x_axis = [0.0, 1.0, 2.0, 3.0, 4.0]\n",
    "\n",
    "# Create figure and primary axis\n",
    "fig, ax1 = plt.subplots()\n",
    "\n",
    "# Plot left data (black line)\n",
    "ax1.plot(x_axis, left_data, 'k-', linewidth=2)  # 'k-' for black solid line\n",
    "ax1.set_xlabel('x-axis')\n",
    "ax1.set_ylabel('left y-axis', color='black')\n",
    "ax1.tick_params(axis='y', colors='black')\n",
    "\n",
    "# Set left y-axis ticks\n",
    "left_yticks = [0, 6, 8, 10, 12, 14, 16, 18]\n",
    "ax1.set_yticks(left_yticks)\n",
    "\n",
    "# Create twin y-axis\n",
    "ax2 = ax1.twinx()\n",
    "ax2.plot(x_axis, right_data, 'r-', linewidth=2)  # 'r-' for red solid line\n",
    "ax2.set_ylabel('right y-axis', color='red')\n",
    "ax2.tick_params(axis='y', colors='red')\n",
    "\n",
    "# Set right y-axis ticks and invert it\n",
    "right_yticks = np.arange(-1.5, 1.0, 0.5)  # [-1.5, -1.0, -0.5, 0.0, 0.5]\n",
    "ax2.set_yticks(right_yticks)\n",
    "ax2.invert_yaxis()  # Invert so -1.5 is at the bottom, 0.5 at the top\n",
    "\n",
    "# Set x-axis ticks\n",
    "ax1.set_xticks(np.arange(0.0, 4.1, 0.5))\n",
    "\n",
    "# Set title and adjust layout\n",
    "plt.title('twin axes')\n",
    "fig.tight_layout()\n",
    "\n",
    "# Save and show the plot\n",
    "plt.savefig('twin_axes.png')\n",
    "plt.show()"
   ]
  },
  {
   "cell_type": "code",
   "execution_count": 5,
   "id": "subplot_grid",
   "metadata": {},
   "outputs": [
    {
     "data": {
      "image/png": "[encoded data removed]",
      "text/plain": [
       "<Figure size 1200x800 with 6 Axes>"
      ]
     },
     "metadata": {},
     "output_type": "display_data"
    }
   ],
   "source": [
    "import matplotlib.pyplot as plt\n",
    "\n",
    "fig, axes = plt.subplots(2, 3, figsize=(12, 8))\n",
    "plt.subplots_adjust(hspace=0.5, wspace=0.5)\n",
    "\n",
    "for i in range(1, 7):\n",
    "    row = (i - 1) // 3\n",
    "    col = (i - 1) % 3\n",
    "    axes[row, col].text(0.5, 0.5, f'(2,3,{i})', ha='center', va='center', transform=axes[row, col].transAxes)\n",
    "    axes[row, col].set_title(f'Title {i}')\n",
    "\n",
    "plt.show()"
   ]
  }
 ],
 "metadata": {
  "kernelspec": {
   "display_name": "ex00",
   "language": "python",
   "name": "python3"
  },
  "language_info": {
   "codemirror_mode": {
    "name": "ipython",
    "version": 3
   },
   "file_extension": ".py",
   "mimetype": "text/x-python",
   "name": "python",
   "nbconvert_exporter": "python",
   "pygments_lexer": "ipython3",
   "version": "3.9.23"
  }
 },
 "nbformat": 4,
 "nbformat_minor": 5
}

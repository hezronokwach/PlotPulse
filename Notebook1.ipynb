{
 "cells": [
  {
   "cell_type": "code",
   "execution_count": null,
   "id": "b01e58c1",
   "metadata": {},
   "outputs": [],
   "source": [
    "import pandas as pd\n",
    "import matplotlib.pyplot as plt\n",
    "\n",
    "df = pd.DataFrame({\n",
    "        'name':['christopher','marion','maria','mia','clement','randy','remi'],\n",
    "        'age':[70,30,22,19,45,33,20],\n",
    "        'gender':['M','F','F','F','M','M','M'],\n",
    "        'state':['california','dc','california','dc','california','new york','porto'],\n",
    "        'num_children':[2,0,0,3,8,1,4],\n",
    "        'num_pets':[5,1,0,5,2,2,3]\n",
    "    })\n",
    "\n",
    "# plot 1\n",
    "plt.figure(figsize=(10, 6))\n",
    "plt.bar(df['name'], df['age'], color='blue', label='age')\n",
    "plt.title('Age per name')\n",
    "plt.xlabel('name')\n",
    "plt.ylabel('Age')\n",
    "plt.yticks(range(0, 71, 10))\n",
    "plt.legend()\n",
    "plt.savefig('age_per_name.png')\n",
    "plt.show()\n"
   ]
  }
 ],
 "metadata": {
  "kernelspec": {
   "display_name": "ex00",
   "language": "python",
   "name": "python3"
  },
  "language_info": {
   "codemirror_mode": {
    "name": "ipython",
    "version": 3
   },
   "file_extension": ".py",
   "mimetype": "text/x-python",
   "name": "python",
   "nbconvert_exporter": "python",
   "pygments_lexer": "ipython3",
   "version": "3.9.23"
  }
 },
 "nbformat": 4,
 "nbformat_minor": 5
}

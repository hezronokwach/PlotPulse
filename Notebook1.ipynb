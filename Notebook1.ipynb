{
 "cells": [
  {
   "cell_type": "code",
   "execution_count": null,
   "id": "b01e58c1",
   "metadata": {},
   "outputs": [],
   "source": [
    "import pandas as pd\n",
    "import matplotlib.pyplot as plt\n",
    "\n",
    "df = pd.DataFrame({\n",
    "        'name':['christopher','marion','maria','mia','clement','randy','remi'],\n",
    "        'age':[70,30,22,19,45,33,20],\n",
    "        'gender':['M','F','F','F','M','M','M'],\n",
    "        'state':['california','dc','california','dc','california','new york','porto'],\n",
    "        'num_children':[2,0,0,3,8,1,4],\n",
    "        'num_pets':[5,1,0,5,2,2,3]\n",
    "    })\n",
    "\n",
    "# plot 1\n",
    "plt.figure(figsize=(10, 6))\n",
    "plt.bar(df[\"name\"], df[\"age\"], color=\"blue\", label=\"age\")\n",
    "plt.title(\"Age per name\")\n",
    "plt.xlabel(\"name\")\n",
    "plt.ylabel(\"Age\")\n",
    "plt.yticks(range(0, 71, 10))\n",
    "plt.legend()\n",
    "plt.savefig(\"age_per_name.png\")\n",
    "plt.show()"
   ]
  },
  {
   "cell_type": "code",
   "execution_count": null,
   "id": "1df201a6",
   "metadata": {},
   "outputs": [],
   "source": [
    "import pandas as pd\n",
    "import matplotlib.pyplot as plt\n",
    "import numpy as np\n",
    "\n",
    "df = pd.DataFrame({\n",
    "        'name':['christopher','marion','maria','mia','clement','randy','remi'],\n",
    "        'age':[70,30,22,19,45,33,20],\n",
    "        'gender':['M','F','F','F','M','M','M'],\n",
    "        'state':['california','dc','california','dc','california','new york','porto'],\n",
    "        'num_children':[4,2,1,0,3,1,0],\n",
    "        'num_pets':[5,1,0,2,2,2,3]\n",
    "        })\n",
    "\n",
    "plt.figure(figsize=(10, 6))\n",
    "plt.scatter(df['age'], df['num_children'], color='red')\n",
    "plt.title('Scatter plot: Number of children and age')\n",
    "plt.xlabel('age')\n",
    "plt.ylabel('num_children')\n",
    "plt.xticks([0, 20, 30, 40, 50, 60, 70])\n",
    "plt.yticks(np.arange(df['num_children'].min(), df['num_children'].max() + 1, 0.5))\n",
    "plt.gca().yaxis.set_major_formatter(plt.FormatStrFormatter('%.2f'))\n",
    "plt.savefig('scatter_age_children.png')\n",
    "plt.show()"
   ]
  },
  {
   "cell_type": "code",
   "execution_count": null,
   "id": "c6d1760e",
   "metadata": {},
   "outputs": [],
   "source": [
    "import matplotlib.pyplot as plt\n",
    "\n",
    "x = [1, 4, 5, 6, 7]\n",
    "y = [2, 6, 3, 6, 3]\n",
    "\n",
    "plt.figure(figsize=(8, 6))\n",
    "\n",
    "plt.plot(x, y, color='red', linestyle='dashdot', linewidth=3)\n",
    "\n",
    "plt.plot(x, y, 'o', color='blue', markersize=12)\n",
    "\n",
    "plt.title('Diplay maker')\n",
    "plt.xlabel('x-axis')\n",
    "plt.ylabel('y-axis')\n",
    "\n",
    "plt.xlim(1, 8)\n",
    "plt.ylim(1, 8)\n",
    "\n",
    "plt.xticks(range(1, 9))\n",
    "plt.yticks(range(1, 9))\n",
    "\n",
    "plt.grid(True)\n",
    "plt.savefig('display_maker.png')\n",
    "plt.show()"
   ]
  },
  {
   "cell_type": "code",
   "execution_count": null,
   "id": "twin_axes_cell",
   "metadata": {},
   "outputs": [],
   "source": [
    "left_data = [5, 7, 11, 13, 17]\n",
    "right_data = [0.1, 0.2, 0.4, 0.8, -1.6]\n",
    "x_axis = [0.0, 1.0, 2.0, 3.0, 4.0]\n",
    "\n",
    "# Create figure and primary axis\n",
    "fig, ax1 = plt.subplots()\n",
    "\n",
    "# Plot left data (black line)\n",
    "ax1.plot(x_axis, left_data, 'k-', linewidth=2)  # 'k-' for black solid line\n",
    "ax1.set_xlabel('x-axis')\n",
    "ax1.set_ylabel('left y-axis', color='black')\n",
    "ax1.tick_params(axis='y', colors='black')\n",
    "\n",
    "# Set left y-axis ticks\n",
    "left_yticks = [0, 6, 8, 10, 12, 14, 16, 18]\n",
    "ax1.set_yticks(left_yticks)\n",
    "\n",
    "# Create twin y-axis\n",
    "ax2 = ax1.twinx()\n",
    "ax2.plot(x_axis, right_data, 'r-', linewidth=2)  # 'r-' for red solid line\n",
    "ax2.set_ylabel('right y-axis', color='red')\n",
    "ax2.tick_params(axis='y', colors='red')\n",
    "\n",
    "# Set right y-axis ticks and invert it\n",
    "right_yticks = np.arange(-1.5, 1.0, 0.5)  # [-1.5, -1.0, -0.5, 0.0, 0.5]\n",
    "ax2.set_yticks(right_yticks)\n",
    "ax2.invert_yaxis()  # Invert so -1.5 is at the bottom, 0.5 at the top\n",
    "\n",
    "# Set x-axis ticks\n",
    "ax1.set_xticks(np.arange(0.0, 4.1, 0.5))\n",
    "\n",
    "# Set title and adjust layout\n",
    "plt.title('twin axes')\n",
    "fig.tight_layout()\n",
    "\n",
    "# Save and show the plot\n",
    "plt.savefig('twin_axes.png')\n",
    "plt.show()"
   ]
  },
  {
   "cell_type": "code",
   "execution_count": null,
   "id": "subplot_grid",
   "metadata": {},
   "outputs": [],
   "source": [
    "import matplotlib.pyplot as plt\n",
    "\n",
    "fig, axes = plt.subplots(2, 3, figsize=(12, 8))\n",
    "plt.subplots_adjust(hspace=0.5, wspace=0.5)\n",
    "\n",
    "for i in range(1, 7):\n",
    "    row = (i - 1) // 3\n",
    "    col = (i - 1) % 3\n",
    "    axes[row, col].text(0.5, 0.5, f'(2,3,{i})', ha='center', va='center', transform=axes[row, col].transAxes)\n",
    "    axes[row, col].set_title(f'Title {i}')\n",
    "\n",
    "plt.show()"
   ]
  },
  {
   "cell_type": "code",
   "execution_count": null,
   "id": "plotly_express",
   "metadata": {},
   "outputs": [],
   "source": [
    "import numpy as np\n",
    "import pandas as pd\n",
    "import plotly.express as px\n",
    "\n",
    "returns = np.random.randn(50)\n",
    "price = 100 + np.cumsum(returns)\n",
    "\n",
    "dates = pd.date_range(start='2020-09-01', periods=50, freq='B')\n",
    "df = pd.DataFrame(zip(dates, price), columns=['Date','Company_A'])\n",
    "\n",
    "fig = px.line(df, x='Date', y='Company_A', title='Company_1 stock price')\n",
    "fig.show()"
   ]
  },
  {
   "cell_type": "code",
   "execution_count": null,
   "id": "plotly_graph_objects",
   "metadata": {},
   "outputs": [],
   "source": [
    "import plotly.graph_objects as go\n",
    "from plotly.offline import init_notebook_mode\n",
    "\n",
    "init_notebook_mode(connected=True)\n",
    "\n",
    "fig = go.Figure()\n",
    "fig.add_trace(go.Scatter(x=df['Date'], y=df['Company_A'], mode='lines'))\n",
    "fig.update_layout(title='Company_1 stock price', xaxis_title='Date', yaxis_title='Company_A')\n",
    "fig.show()"
   ]
  },
  {
   "cell_type": "code",
   "execution_count": 11,
   "id": "plotly_boxplot",
   "metadata": {},
   "outputs": [
    {
     "data": {
      "application/vnd.plotly.v1+json": {
       "config": {
        "plotlyServerURL": "https://plot.ly"
       },
       "data": [
        {
         "name": "Sample A",
         "type": "box",
         "y": {
          "bdata": "ZTq+DUbOAcA80+lvXnniP1rJleqfS/i/iK7dVKsv+b/kEUJjK6X6v+rD5uvhVuc/SdJEMhJT9T8bdiVCrtTlP09l9szXedk/0MM4lnAA9T9uPppzvS74P9ZM5Mfw5+K/lyi66iMW+D8D8uPEjOvqv7bx6QT3EO8/L+d3GNOB37+dB3WVULvnPy4xjk/sNMs/1mvgt5gZ7T+L7r8Cq5nlv5dZODYKXeg/0OI4nJWjuz87U6Korw+fv6NoRsqePPG/UkkGfE6d9b94qOhHdpy8v8MU+Te88+k/U8Jb9RAZ1r+WxCRwR+jmvzyLQDOUKfI/OOmF3H/I2r8goZWPkZ34Pw1TuhkC0ns//XeK2IJc9r8pOaYupGD0vw7zLCFtsvi/1OKbN6My4L+O7MR1qg/TPzfUkl/Npee/IGggqCNg8r/iMPtBr/3mvxge0xlaVADAH4nMgkrt7T8BRVup8FfTPztZrNP+FPg/9GCobT9Wsr+bUwNB5kTxP3FPrfd9ff6/7SMCfYjqy7+te9hUMU/3vw==",
          "dtype": "f8"
         }
        },
        {
         "name": "Sample B",
         "type": "box",
         "y": {
          "bdata": "MF34PCQTwT/GwtsQvesMQLRjtCTtZ9e/SYfLFnBe+T8xxlafK631P5Co7nBLZ8a/ZEu1DUOD2D9QEwtmydkAQDgq/AegGwRAMp1Ad3p9AkCCcr9EPXUBQOAqFM2EbgFAmHuPANMW8z9nlPEPrPHxP3QUlBBrCPk/82Lxo2c8+T8yfLN4rgz8P3w1F8UU1tm/AXhngf2M8T/yVNhisBjsv4aRGvM1ruM/oKwQguQU5D92u3qhIt/9PxwaXlBgpsA/YBhnRZ/EyD/Ag/Q/RfPlv46scOmR9AVAgMpACGelvL8mlWvNU3TnP7jOR1Ygy/q/kNciUMXM8D+u0AqwVHgFQORkCiuVd/c/lEGgLcu59z9+m2fYnXnhPxowf21bwPk/UAeBgrrF9z/Q/tVRWmmwvwzRM+Wmbv0/JYbgxlCjAECoxHSzdrPSvxwzthE9lNQ/Am51fK7D3j+w66bTB5AEQGZ3N0/wwes/xVKjZKY36T9Y8mO6suUSQEjz3dyd2Og/QKR1wTfDpr+ez5QyvNLoPw==",
          "dtype": "f8"
         }
        },
        {
         "name": "Sample C",
         "type": "box",
         "y": {
          "bdata": "FgwpJbpAAkB2fhcFV8wKQEzsPTCbcQZA3LJMoK8U/j+M8lfuojoAQKmePY+NXf0/9SPQ4a0d+T/qT+iFjcsEQE6weCT1SAlAgMnLri1a9z+lSJa5pkwBQNmHWw3/M/Q/Anhg0NK/7D9PDWiarGUHQMb0n/rKAANAyKtf6a4CB0AxtegY0wUHQNzVO66XWOC/CU2SinvWBEDHXR5+oaz6P/DPyi7NqgpAjFQFFH5I+T/J2dyEvdECQEMwOpzNofk/rXLzbym8A0BW0U1nnqUEQFRe73jFXQJAfKAjCW4+/T97Tjorp0f8P9xTwUJS4vM/XfbUlzLQ9T+4G7oUY6sGQLKPlHoeTgpA5NgzuScM9T8eUrHhR07/PwVAG67dnQZAFDB3JLQd0z+MN/PH9KMCQLyfrBYqkAtAES8SuvQ2AUAwQK+1C2IFQCmy9FMZtQRAxoktPU8F+j8ISX+oF2H/P7Rkods3BP4/Xjgf9zYf7z+2oF8cjjAHQGTlEQFlkAZARE8ca1E+/j9Y2zXOUGcEQA==",
          "dtype": "f8"
         }
        }
       ],
       "layout": {
        "template": {
         "data": {
          "bar": [
           {
            "error_x": {
             "color": "#2a3f5f"
            },
            "error_y": {
             "color": "#2a3f5f"
            },
            "marker": {
             "line": {
              "color": "#E5ECF6",
              "width": 0.5
             },
             "pattern": {
              "fillmode": "overlay",
              "size": 10,
              "solidity": 0.2
             }
            },
            "type": "bar"
           }
          ],
          "barpolar": [
           {
            "marker": {
             "line": {
              "color": "#E5ECF6",
              "width": 0.5
             },
             "pattern": {
              "fillmode": "overlay",
              "size": 10,
              "solidity": 0.2
             }
            },
            "type": "barpolar"
           }
          ],
          "carpet": [
           {
            "aaxis": {
             "endlinecolor": "#2a3f5f",
             "gridcolor": "white",
             "linecolor": "white",
             "minorgridcolor": "white",
             "startlinecolor": "#2a3f5f"
            },
            "baxis": {
             "endlinecolor": "#2a3f5f",
             "gridcolor": "white",
             "linecolor": "white",
             "minorgridcolor": "white",
             "startlinecolor": "#2a3f5f"
            },
            "type": "carpet"
           }
          ],
          "choropleth": [
           {
            "colorbar": {
             "outlinewidth": 0,
             "ticks": ""
            },
            "type": "choropleth"
           }
          ],
          "contour": [
           {
            "colorbar": {
             "outlinewidth": 0,
             "ticks": ""
            },
            "colorscale": [
             [
              0,
              "#0d0887"
             ],
             [
              0.1111111111111111,
              "#46039f"
             ],
             [
              0.2222222222222222,
              "#7201a8"
             ],
             [
              0.3333333333333333,
              "#9c179e"
             ],
             [
              0.4444444444444444,
              "#bd3786"
             ],
             [
              0.5555555555555556,
              "#d8576b"
             ],
             [
              0.6666666666666666,
              "#ed7953"
             ],
             [
              0.7777777777777778,
              "#fb9f3a"
             ],
             [
              0.8888888888888888,
              "#fdca26"
             ],
             [
              1,
              "#f0f921"
             ]
            ],
            "type": "contour"
           }
          ],
          "contourcarpet": [
           {
            "colorbar": {
             "outlinewidth": 0,
             "ticks": ""
            },
            "type": "contourcarpet"
           }
          ],
          "heatmap": [
           {
            "colorbar": {
             "outlinewidth": 0,
             "ticks": ""
            },
            "colorscale": [
             [
              0,
              "#0d0887"
             ],
             [
              0.1111111111111111,
              "#46039f"
             ],
             [
              0.2222222222222222,
              "#7201a8"
             ],
             [
              0.3333333333333333,
              "#9c179e"
             ],
             [
              0.4444444444444444,
              "#bd3786"
             ],
             [
              0.5555555555555556,
              "#d8576b"
             ],
             [
              0.6666666666666666,
              "#ed7953"
             ],
             [
              0.7777777777777778,
              "#fb9f3a"
             ],
             [
              0.8888888888888888,
              "#fdca26"
             ],
             [
              1,
              "#f0f921"
             ]
            ],
            "type": "heatmap"
           }
          ],
          "histogram": [
           {
            "marker": {
             "pattern": {
              "fillmode": "overlay",
              "size": 10,
              "solidity": 0.2
             }
            },
            "type": "histogram"
           }
          ],
          "histogram2d": [
           {
            "colorbar": {
             "outlinewidth": 0,
             "ticks": ""
            },
            "colorscale": [
             [
              0,
              "#0d0887"
             ],
             [
              0.1111111111111111,
              "#46039f"
             ],
             [
              0.2222222222222222,
              "#7201a8"
             ],
             [
              0.3333333333333333,
              "#9c179e"
             ],
             [
              0.4444444444444444,
              "#bd3786"
             ],
             [
              0.5555555555555556,
              "#d8576b"
             ],
             [
              0.6666666666666666,
              "#ed7953"
             ],
             [
              0.7777777777777778,
              "#fb9f3a"
             ],
             [
              0.8888888888888888,
              "#fdca26"
             ],
             [
              1,
              "#f0f921"
             ]
            ],
            "type": "histogram2d"
           }
          ],
          "histogram2dcontour": [
           {
            "colorbar": {
             "outlinewidth": 0,
             "ticks": ""
            },
            "colorscale": [
             [
              0,
              "#0d0887"
             ],
             [
              0.1111111111111111,
              "#46039f"
             ],
             [
              0.2222222222222222,
              "#7201a8"
             ],
             [
              0.3333333333333333,
              "#9c179e"
             ],
             [
              0.4444444444444444,
              "#bd3786"
             ],
             [
              0.5555555555555556,
              "#d8576b"
             ],
             [
              0.6666666666666666,
              "#ed7953"
             ],
             [
              0.7777777777777778,
              "#fb9f3a"
             ],
             [
              0.8888888888888888,
              "#fdca26"
             ],
             [
              1,
              "#f0f921"
             ]
            ],
            "type": "histogram2dcontour"
           }
          ],
          "mesh3d": [
           {
            "colorbar": {
             "outlinewidth": 0,
             "ticks": ""
            },
            "type": "mesh3d"
           }
          ],
          "parcoords": [
           {
            "line": {
             "colorbar": {
              "outlinewidth": 0,
              "ticks": ""
             }
            },
            "type": "parcoords"
           }
          ],
          "pie": [
           {
            "automargin": true,
            "type": "pie"
           }
          ],
          "scatter": [
           {
            "fillpattern": {
             "fillmode": "overlay",
             "size": 10,
             "solidity": 0.2
            },
            "type": "scatter"
           }
          ],
          "scatter3d": [
           {
            "line": {
             "colorbar": {
              "outlinewidth": 0,
              "ticks": ""
             }
            },
            "marker": {
             "colorbar": {
              "outlinewidth": 0,
              "ticks": ""
             }
            },
            "type": "scatter3d"
           }
          ],
          "scattercarpet": [
           {
            "marker": {
             "colorbar": {
              "outlinewidth": 0,
              "ticks": ""
             }
            },
            "type": "scattercarpet"
           }
          ],
          "scattergeo": [
           {
            "marker": {
             "colorbar": {
              "outlinewidth": 0,
              "ticks": ""
             }
            },
            "type": "scattergeo"
           }
          ],
          "scattergl": [
           {
            "marker": {
             "colorbar": {
              "outlinewidth": 0,
              "ticks": ""
             }
            },
            "type": "scattergl"
           }
          ],
          "scattermap": [
           {
            "marker": {
             "colorbar": {
              "outlinewidth": 0,
              "ticks": ""
             }
            },
            "type": "scattermap"
           }
          ],
          "scattermapbox": [
           {
            "marker": {
             "colorbar": {
              "outlinewidth": 0,
              "ticks": ""
             }
            },
            "type": "scattermapbox"
           }
          ],
          "scatterpolar": [
           {
            "marker": {
             "colorbar": {
              "outlinewidth": 0,
              "ticks": ""
             }
            },
            "type": "scatterpolar"
           }
          ],
          "scatterpolargl": [
           {
            "marker": {
             "colorbar": {
              "outlinewidth": 0,
              "ticks": ""
             }
            },
            "type": "scatterpolargl"
           }
          ],
          "scatterternary": [
           {
            "marker": {
             "colorbar": {
              "outlinewidth": 0,
              "ticks": ""
             }
            },
            "type": "scatterternary"
           }
          ],
          "surface": [
           {
            "colorbar": {
             "outlinewidth": 0,
             "ticks": ""
            },
            "colorscale": [
             [
              0,
              "#0d0887"
             ],
             [
              0.1111111111111111,
              "#46039f"
             ],
             [
              0.2222222222222222,
              "#7201a8"
             ],
             [
              0.3333333333333333,
              "#9c179e"
             ],
             [
              0.4444444444444444,
              "#bd3786"
             ],
             [
              0.5555555555555556,
              "#d8576b"
             ],
             [
              0.6666666666666666,
              "#ed7953"
             ],
             [
              0.7777777777777778,
              "#fb9f3a"
             ],
             [
              0.8888888888888888,
              "#fdca26"
             ],
             [
              1,
              "#f0f921"
             ]
            ],
            "type": "surface"
           }
          ],
          "table": [
           {
            "cells": {
             "fill": {
              "color": "#EBF0F8"
             },
             "line": {
              "color": "white"
             }
            },
            "header": {
             "fill": {
              "color": "#C8D4E3"
             },
             "line": {
              "color": "white"
             }
            },
            "type": "table"
           }
          ]
         },
         "layout": {
          "annotationdefaults": {
           "arrowcolor": "#2a3f5f",
           "arrowhead": 0,
           "arrowwidth": 1
          },
          "autotypenumbers": "strict",
          "coloraxis": {
           "colorbar": {
            "outlinewidth": 0,
            "ticks": ""
           }
          },
          "colorscale": {
           "diverging": [
            [
             0,
             "#8e0152"
            ],
            [
             0.1,
             "#c51b7d"
            ],
            [
             0.2,
             "#de77ae"
            ],
            [
             0.3,
             "#f1b6da"
            ],
            [
             0.4,
             "#fde0ef"
            ],
            [
             0.5,
             "#f7f7f7"
            ],
            [
             0.6,
             "#e6f5d0"
            ],
            [
             0.7,
             "#b8e186"
            ],
            [
             0.8,
             "#7fbc41"
            ],
            [
             0.9,
             "#4d9221"
            ],
            [
             1,
             "#276419"
            ]
           ],
           "sequential": [
            [
             0,
             "#0d0887"
            ],
            [
             0.1111111111111111,
             "#46039f"
            ],
            [
             0.2222222222222222,
             "#7201a8"
            ],
            [
             0.3333333333333333,
             "#9c179e"
            ],
            [
             0.4444444444444444,
             "#bd3786"
            ],
            [
             0.5555555555555556,
             "#d8576b"
            ],
            [
             0.6666666666666666,
             "#ed7953"
            ],
            [
             0.7777777777777778,
             "#fb9f3a"
            ],
            [
             0.8888888888888888,
             "#fdca26"
            ],
            [
             1,
             "#f0f921"
            ]
           ],
           "sequentialminus": [
            [
             0,
             "#0d0887"
            ],
            [
             0.1111111111111111,
             "#46039f"
            ],
            [
             0.2222222222222222,
             "#7201a8"
            ],
            [
             0.3333333333333333,
             "#9c179e"
            ],
            [
             0.4444444444444444,
             "#bd3786"
            ],
            [
             0.5555555555555556,
             "#d8576b"
            ],
            [
             0.6666666666666666,
             "#ed7953"
            ],
            [
             0.7777777777777778,
             "#fb9f3a"
            ],
            [
             0.8888888888888888,
             "#fdca26"
            ],
            [
             1,
             "#f0f921"
            ]
           ]
          },
          "colorway": [
           "#636efa",
           "#EF553B",
           "#00cc96",
           "#ab63fa",
           "#FFA15A",
           "#19d3f3",
           "#FF6692",
           "#B6E880",
           "#FF97FF",
           "#FECB52"
          ],
          "font": {
           "color": "#2a3f5f"
          },
          "geo": {
           "bgcolor": "white",
           "lakecolor": "white",
           "landcolor": "#E5ECF6",
           "showlakes": true,
           "showland": true,
           "subunitcolor": "white"
          },
          "hoverlabel": {
           "align": "left"
          },
          "hovermode": "closest",
          "mapbox": {
           "style": "light"
          },
          "paper_bgcolor": "white",
          "plot_bgcolor": "#E5ECF6",
          "polar": {
           "angularaxis": {
            "gridcolor": "white",
            "linecolor": "white",
            "ticks": ""
           },
           "bgcolor": "#E5ECF6",
           "radialaxis": {
            "gridcolor": "white",
            "linecolor": "white",
            "ticks": ""
           }
          },
          "scene": {
           "xaxis": {
            "backgroundcolor": "#E5ECF6",
            "gridcolor": "white",
            "gridwidth": 2,
            "linecolor": "white",
            "showbackground": true,
            "ticks": "",
            "zerolinecolor": "white"
           },
           "yaxis": {
            "backgroundcolor": "#E5ECF6",
            "gridcolor": "white",
            "gridwidth": 2,
            "linecolor": "white",
            "showbackground": true,
            "ticks": "",
            "zerolinecolor": "white"
           },
           "zaxis": {
            "backgroundcolor": "#E5ECF6",
            "gridcolor": "white",
            "gridwidth": 2,
            "linecolor": "white",
            "showbackground": true,
            "ticks": "",
            "zerolinecolor": "white"
           }
          },
          "shapedefaults": {
           "line": {
            "color": "#2a3f5f"
           }
          },
          "ternary": {
           "aaxis": {
            "gridcolor": "white",
            "linecolor": "white",
            "ticks": ""
           },
           "baxis": {
            "gridcolor": "white",
            "linecolor": "white",
            "ticks": ""
           },
           "bgcolor": "#E5ECF6",
           "caxis": {
            "gridcolor": "white",
            "linecolor": "white",
            "ticks": ""
           }
          },
          "title": {
           "x": 0.05
          },
          "xaxis": {
           "automargin": true,
           "gridcolor": "white",
           "linecolor": "white",
           "ticks": "",
           "title": {
            "standoff": 15
           },
           "zerolinecolor": "white",
           "zerolinewidth": 2
          },
          "yaxis": {
           "automargin": true,
           "gridcolor": "white",
           "linecolor": "white",
           "ticks": "",
           "title": {
            "standoff": 15
           },
           "zerolinecolor": "white",
           "zerolinewidth": 2
          }
         }
        },
        "title": {
         "text": "Box Plots of Three Normal Distributions"
        }
       }
      },
      "text/html": [
       "<div>            <script src=\"https://cdnjs.cloudflare.com/ajax/libs/mathjax/2.7.5/MathJax.js?config=TeX-AMS-MML_SVG\"></script><script type=\"text/javascript\">if (window.MathJax && window.MathJax.Hub && window.MathJax.Hub.Config) {window.MathJax.Hub.Config({SVG: {font: \"STIX-Web\"}});}</script>                <script type=\"text/javascript\">window.PlotlyConfig = {MathJaxConfig: 'local'};</script>\n",
       "        <script charset=\"utf-8\" src=\"https://cdn.plot.ly/plotly-3.1.0.min.js\" integrity=\"sha256-Ei4740bWZhaUTQuD6q9yQlgVCMPBz6CZWhevDYPv93A=\" crossorigin=\"anonymous\"></script>                <div id=\"5a3e10f1-03e7-4ca2-92b6-c0beca9ee315\" class=\"plotly-graph-div\" style=\"height:525px; width:100%;\"></div>            <script type=\"text/javascript\">                window.PLOTLYENV=window.PLOTLYENV || {};                                if (document.getElementById(\"5a3e10f1-03e7-4ca2-92b6-c0beca9ee315\")) {                    Plotly.newPlot(                        \"5a3e10f1-03e7-4ca2-92b6-c0beca9ee315\",                        [{\"name\":\"Sample A\",\"y\":{\"dtype\":\"f8\",\"bdata\":\"ZTq+DUbOAcA80+lvXnniP1rJleqfS\\u002fi\\u002fiK7dVKsv+b\\u002fkEUJjK6X6v+rD5uvhVuc\\u002fSdJEMhJT9T8bdiVCrtTlP09l9szXedk\\u002f0MM4lnAA9T9uPppzvS74P9ZM5Mfw5+K\\u002flyi66iMW+D8D8uPEjOvqv7bx6QT3EO8\\u002fL+d3GNOB37+dB3WVULvnPy4xjk\\u002fsNMs\\u002f1mvgt5gZ7T+L7r8Cq5nlv5dZODYKXeg\\u002f0OI4nJWjuz87U6Korw+fv6NoRsqePPG\\u002fUkkGfE6d9b94qOhHdpy8v8MU+Te88+k\\u002fU8Jb9RAZ1r+WxCRwR+jmvzyLQDOUKfI\\u002fOOmF3H\\u002fI2r8goZWPkZ34Pw1TuhkC0ns\\u002f\\u002fXeK2IJc9r8pOaYupGD0vw7zLCFtsvi\\u002f1OKbN6My4L+O7MR1qg\\u002fTPzfUkl\\u002fNpee\\u002fIGggqCNg8r\\u002fiMPtBr\\u002f3mvxge0xlaVADAH4nMgkrt7T8BRVup8FfTPztZrNP+FPg\\u002f9GCobT9Wsr+bUwNB5kTxP3FPrfd9ff6\\u002f7SMCfYjqy7+te9hUMU\\u002f3vw==\"},\"type\":\"box\"},{\"name\":\"Sample B\",\"y\":{\"dtype\":\"f8\",\"bdata\":\"MF34PCQTwT\\u002fGwtsQvesMQLRjtCTtZ9e\\u002fSYfLFnBe+T8xxlafK631P5Co7nBLZ8a\\u002fZEu1DUOD2D9QEwtmydkAQDgq\\u002fAegGwRAMp1Ad3p9AkCCcr9EPXUBQOAqFM2EbgFAmHuPANMW8z9nlPEPrPHxP3QUlBBrCPk\\u002f82Lxo2c8+T8yfLN4rgz8P3w1F8UU1tm\\u002fAXhngf2M8T\\u002fyVNhisBjsv4aRGvM1ruM\\u002foKwQguQU5D92u3qhIt\\u002f9PxwaXlBgpsA\\u002fYBhnRZ\\u002fEyD\\u002fAg\\u002fQ\\u002fRfPlv46scOmR9AVAgMpACGelvL8mlWvNU3TnP7jOR1Ygy\\u002fq\\u002fkNciUMXM8D+u0AqwVHgFQORkCiuVd\\u002fc\\u002flEGgLcu59z9+m2fYnXnhPxowf21bwPk\\u002fUAeBgrrF9z\\u002fQ\\u002ftVRWmmwvwzRM+Wmbv0\\u002fJYbgxlCjAECoxHSzdrPSvxwzthE9lNQ\\u002fAm51fK7D3j+w66bTB5AEQGZ3N0\\u002fwwes\\u002fxVKjZKY36T9Y8mO6suUSQEjz3dyd2Og\\u002fQKR1wTfDpr+ez5QyvNLoPw==\"},\"type\":\"box\"},{\"name\":\"Sample C\",\"y\":{\"dtype\":\"f8\",\"bdata\":\"FgwpJbpAAkB2fhcFV8wKQEzsPTCbcQZA3LJMoK8U\\u002fj+M8lfuojoAQKmePY+NXf0\\u002f9SPQ4a0d+T\\u002fqT+iFjcsEQE6weCT1SAlAgMnLri1a9z+lSJa5pkwBQNmHWw3\\u002fM\\u002fQ\\u002fAnhg0NK\\u002f7D9PDWiarGUHQMb0n\\u002frKAANAyKtf6a4CB0AxtegY0wUHQNzVO66XWOC\\u002fCU2SinvWBEDHXR5+oaz6P\\u002fDPyi7NqgpAjFQFFH5I+T\\u002fJ2dyEvdECQEMwOpzNofk\\u002frXLzbym8A0BW0U1nnqUEQFRe73jFXQJAfKAjCW4+\\u002fT97Tjorp0f8P9xTwUJS4vM\\u002fXfbUlzLQ9T+4G7oUY6sGQLKPlHoeTgpA5NgzuScM9T8eUrHhR07\\u002fPwVAG67dnQZAFDB3JLQd0z+MN\\u002fPH9KMCQLyfrBYqkAtAES8SuvQ2AUAwQK+1C2IFQCmy9FMZtQRAxoktPU8F+j8ISX+oF2H\\u002fP7Rkods3BP4\\u002fXjgf9zYf7z+2oF8cjjAHQGTlEQFlkAZARE8ca1E+\\u002fj9Y2zXOUGcEQA==\"},\"type\":\"box\"}],                        {\"template\":{\"data\":{\"histogram2dcontour\":[{\"type\":\"histogram2dcontour\",\"colorbar\":{\"outlinewidth\":0,\"ticks\":\"\"},\"colorscale\":[[0.0,\"#0d0887\"],[0.1111111111111111,\"#46039f\"],[0.2222222222222222,\"#7201a8\"],[0.3333333333333333,\"#9c179e\"],[0.4444444444444444,\"#bd3786\"],[0.5555555555555556,\"#d8576b\"],[0.6666666666666666,\"#ed7953\"],[0.7777777777777778,\"#fb9f3a\"],[0.8888888888888888,\"#fdca26\"],[1.0,\"#f0f921\"]]}],\"choropleth\":[{\"type\":\"choropleth\",\"colorbar\":{\"outlinewidth\":0,\"ticks\":\"\"}}],\"histogram2d\":[{\"type\":\"histogram2d\",\"colorbar\":{\"outlinewidth\":0,\"ticks\":\"\"},\"colorscale\":[[0.0,\"#0d0887\"],[0.1111111111111111,\"#46039f\"],[0.2222222222222222,\"#7201a8\"],[0.3333333333333333,\"#9c179e\"],[0.4444444444444444,\"#bd3786\"],[0.5555555555555556,\"#d8576b\"],[0.6666666666666666,\"#ed7953\"],[0.7777777777777778,\"#fb9f3a\"],[0.8888888888888888,\"#fdca26\"],[1.0,\"#f0f921\"]]}],\"heatmap\":[{\"type\":\"heatmap\",\"colorbar\":{\"outlinewidth\":0,\"ticks\":\"\"},\"colorscale\":[[0.0,\"#0d0887\"],[0.1111111111111111,\"#46039f\"],[0.2222222222222222,\"#7201a8\"],[0.3333333333333333,\"#9c179e\"],[0.4444444444444444,\"#bd3786\"],[0.5555555555555556,\"#d8576b\"],[0.6666666666666666,\"#ed7953\"],[0.7777777777777778,\"#fb9f3a\"],[0.8888888888888888,\"#fdca26\"],[1.0,\"#f0f921\"]]}],\"contourcarpet\":[{\"type\":\"contourcarpet\",\"colorbar\":{\"outlinewidth\":0,\"ticks\":\"\"}}],\"contour\":[{\"type\":\"contour\",\"colorbar\":{\"outlinewidth\":0,\"ticks\":\"\"},\"colorscale\":[[0.0,\"#0d0887\"],[0.1111111111111111,\"#46039f\"],[0.2222222222222222,\"#7201a8\"],[0.3333333333333333,\"#9c179e\"],[0.4444444444444444,\"#bd3786\"],[0.5555555555555556,\"#d8576b\"],[0.6666666666666666,\"#ed7953\"],[0.7777777777777778,\"#fb9f3a\"],[0.8888888888888888,\"#fdca26\"],[1.0,\"#f0f921\"]]}],\"surface\":[{\"type\":\"surface\",\"colorbar\":{\"outlinewidth\":0,\"ticks\":\"\"},\"colorscale\":[[0.0,\"#0d0887\"],[0.1111111111111111,\"#46039f\"],[0.2222222222222222,\"#7201a8\"],[0.3333333333333333,\"#9c179e\"],[0.4444444444444444,\"#bd3786\"],[0.5555555555555556,\"#d8576b\"],[0.6666666666666666,\"#ed7953\"],[0.7777777777777778,\"#fb9f3a\"],[0.8888888888888888,\"#fdca26\"],[1.0,\"#f0f921\"]]}],\"mesh3d\":[{\"type\":\"mesh3d\",\"colorbar\":{\"outlinewidth\":0,\"ticks\":\"\"}}],\"scatter\":[{\"fillpattern\":{\"fillmode\":\"overlay\",\"size\":10,\"solidity\":0.2},\"type\":\"scatter\"}],\"parcoords\":[{\"type\":\"parcoords\",\"line\":{\"colorbar\":{\"outlinewidth\":0,\"ticks\":\"\"}}}],\"scatterpolargl\":[{\"type\":\"scatterpolargl\",\"marker\":{\"colorbar\":{\"outlinewidth\":0,\"ticks\":\"\"}}}],\"bar\":[{\"error_x\":{\"color\":\"#2a3f5f\"},\"error_y\":{\"color\":\"#2a3f5f\"},\"marker\":{\"line\":{\"color\":\"#E5ECF6\",\"width\":0.5},\"pattern\":{\"fillmode\":\"overlay\",\"size\":10,\"solidity\":0.2}},\"type\":\"bar\"}],\"scattergeo\":[{\"type\":\"scattergeo\",\"marker\":{\"colorbar\":{\"outlinewidth\":0,\"ticks\":\"\"}}}],\"scatterpolar\":[{\"type\":\"scatterpolar\",\"marker\":{\"colorbar\":{\"outlinewidth\":0,\"ticks\":\"\"}}}],\"histogram\":[{\"marker\":{\"pattern\":{\"fillmode\":\"overlay\",\"size\":10,\"solidity\":0.2}},\"type\":\"histogram\"}],\"scattergl\":[{\"type\":\"scattergl\",\"marker\":{\"colorbar\":{\"outlinewidth\":0,\"ticks\":\"\"}}}],\"scatter3d\":[{\"type\":\"scatter3d\",\"line\":{\"colorbar\":{\"outlinewidth\":0,\"ticks\":\"\"}},\"marker\":{\"colorbar\":{\"outlinewidth\":0,\"ticks\":\"\"}}}],\"scattermap\":[{\"type\":\"scattermap\",\"marker\":{\"colorbar\":{\"outlinewidth\":0,\"ticks\":\"\"}}}],\"scattermapbox\":[{\"type\":\"scattermapbox\",\"marker\":{\"colorbar\":{\"outlinewidth\":0,\"ticks\":\"\"}}}],\"scatterternary\":[{\"type\":\"scatterternary\",\"marker\":{\"colorbar\":{\"outlinewidth\":0,\"ticks\":\"\"}}}],\"scattercarpet\":[{\"type\":\"scattercarpet\",\"marker\":{\"colorbar\":{\"outlinewidth\":0,\"ticks\":\"\"}}}],\"carpet\":[{\"aaxis\":{\"endlinecolor\":\"#2a3f5f\",\"gridcolor\":\"white\",\"linecolor\":\"white\",\"minorgridcolor\":\"white\",\"startlinecolor\":\"#2a3f5f\"},\"baxis\":{\"endlinecolor\":\"#2a3f5f\",\"gridcolor\":\"white\",\"linecolor\":\"white\",\"minorgridcolor\":\"white\",\"startlinecolor\":\"#2a3f5f\"},\"type\":\"carpet\"}],\"table\":[{\"cells\":{\"fill\":{\"color\":\"#EBF0F8\"},\"line\":{\"color\":\"white\"}},\"header\":{\"fill\":{\"color\":\"#C8D4E3\"},\"line\":{\"color\":\"white\"}},\"type\":\"table\"}],\"barpolar\":[{\"marker\":{\"line\":{\"color\":\"#E5ECF6\",\"width\":0.5},\"pattern\":{\"fillmode\":\"overlay\",\"size\":10,\"solidity\":0.2}},\"type\":\"barpolar\"}],\"pie\":[{\"automargin\":true,\"type\":\"pie\"}]},\"layout\":{\"autotypenumbers\":\"strict\",\"colorway\":[\"#636efa\",\"#EF553B\",\"#00cc96\",\"#ab63fa\",\"#FFA15A\",\"#19d3f3\",\"#FF6692\",\"#B6E880\",\"#FF97FF\",\"#FECB52\"],\"font\":{\"color\":\"#2a3f5f\"},\"hovermode\":\"closest\",\"hoverlabel\":{\"align\":\"left\"},\"paper_bgcolor\":\"white\",\"plot_bgcolor\":\"#E5ECF6\",\"polar\":{\"bgcolor\":\"#E5ECF6\",\"angularaxis\":{\"gridcolor\":\"white\",\"linecolor\":\"white\",\"ticks\":\"\"},\"radialaxis\":{\"gridcolor\":\"white\",\"linecolor\":\"white\",\"ticks\":\"\"}},\"ternary\":{\"bgcolor\":\"#E5ECF6\",\"aaxis\":{\"gridcolor\":\"white\",\"linecolor\":\"white\",\"ticks\":\"\"},\"baxis\":{\"gridcolor\":\"white\",\"linecolor\":\"white\",\"ticks\":\"\"},\"caxis\":{\"gridcolor\":\"white\",\"linecolor\":\"white\",\"ticks\":\"\"}},\"coloraxis\":{\"colorbar\":{\"outlinewidth\":0,\"ticks\":\"\"}},\"colorscale\":{\"sequential\":[[0.0,\"#0d0887\"],[0.1111111111111111,\"#46039f\"],[0.2222222222222222,\"#7201a8\"],[0.3333333333333333,\"#9c179e\"],[0.4444444444444444,\"#bd3786\"],[0.5555555555555556,\"#d8576b\"],[0.6666666666666666,\"#ed7953\"],[0.7777777777777778,\"#fb9f3a\"],[0.8888888888888888,\"#fdca26\"],[1.0,\"#f0f921\"]],\"sequentialminus\":[[0.0,\"#0d0887\"],[0.1111111111111111,\"#46039f\"],[0.2222222222222222,\"#7201a8\"],[0.3333333333333333,\"#9c179e\"],[0.4444444444444444,\"#bd3786\"],[0.5555555555555556,\"#d8576b\"],[0.6666666666666666,\"#ed7953\"],[0.7777777777777778,\"#fb9f3a\"],[0.8888888888888888,\"#fdca26\"],[1.0,\"#f0f921\"]],\"diverging\":[[0,\"#8e0152\"],[0.1,\"#c51b7d\"],[0.2,\"#de77ae\"],[0.3,\"#f1b6da\"],[0.4,\"#fde0ef\"],[0.5,\"#f7f7f7\"],[0.6,\"#e6f5d0\"],[0.7,\"#b8e186\"],[0.8,\"#7fbc41\"],[0.9,\"#4d9221\"],[1,\"#276419\"]]},\"xaxis\":{\"gridcolor\":\"white\",\"linecolor\":\"white\",\"ticks\":\"\",\"title\":{\"standoff\":15},\"zerolinecolor\":\"white\",\"automargin\":true,\"zerolinewidth\":2},\"yaxis\":{\"gridcolor\":\"white\",\"linecolor\":\"white\",\"ticks\":\"\",\"title\":{\"standoff\":15},\"zerolinecolor\":\"white\",\"automargin\":true,\"zerolinewidth\":2},\"scene\":{\"xaxis\":{\"backgroundcolor\":\"#E5ECF6\",\"gridcolor\":\"white\",\"linecolor\":\"white\",\"showbackground\":true,\"ticks\":\"\",\"zerolinecolor\":\"white\",\"gridwidth\":2},\"yaxis\":{\"backgroundcolor\":\"#E5ECF6\",\"gridcolor\":\"white\",\"linecolor\":\"white\",\"showbackground\":true,\"ticks\":\"\",\"zerolinecolor\":\"white\",\"gridwidth\":2},\"zaxis\":{\"backgroundcolor\":\"#E5ECF6\",\"gridcolor\":\"white\",\"linecolor\":\"white\",\"showbackground\":true,\"ticks\":\"\",\"zerolinecolor\":\"white\",\"gridwidth\":2}},\"shapedefaults\":{\"line\":{\"color\":\"#2a3f5f\"}},\"annotationdefaults\":{\"arrowcolor\":\"#2a3f5f\",\"arrowhead\":0,\"arrowwidth\":1},\"geo\":{\"bgcolor\":\"white\",\"landcolor\":\"#E5ECF6\",\"subunitcolor\":\"white\",\"showland\":true,\"showlakes\":true,\"lakecolor\":\"white\"},\"title\":{\"x\":0.05},\"mapbox\":{\"style\":\"light\"}}},\"title\":{\"text\":\"Box Plots of Three Normal Distributions\"}},                        {\"responsive\": true}                    ).then(function(){\n",
       "                            \n",
       "var gd = document.getElementById('5a3e10f1-03e7-4ca2-92b6-c0beca9ee315');\n",
       "var x = new MutationObserver(function (mutations, observer) {{\n",
       "        var display = window.getComputedStyle(gd).display;\n",
       "        if (!display || display === 'none') {{\n",
       "            console.log([gd, 'removed!']);\n",
       "            Plotly.purge(gd);\n",
       "            observer.disconnect();\n",
       "        }}\n",
       "}});\n",
       "\n",
       "// Listen for the removal of the full notebook cells\n",
       "var notebookContainer = gd.closest('#notebook-container');\n",
       "if (notebookContainer) {{\n",
       "    x.observe(notebookContainer, {childList: true});\n",
       "}}\n",
       "\n",
       "// Listen for the clearing of the current output cell\n",
       "var outputEl = gd.closest('.output');\n",
       "if (outputEl) {{\n",
       "    x.observe(outputEl, {childList: true});\n",
       "}}\n",
       "\n",
       "                        })                };            </script>        </div>"
      ]
     },
     "metadata": {},
     "output_type": "display_data"
    }
   ],
   "source": [
    "import numpy as np\n",
    "import plotly.graph_objects as go\n",
    "\n",
    "y0 = np.random.randn(50)\n",
    "y1 = np.random.randn(50) + 1\n",
    "y2 = np.random.randn(50) + 2\n",
    "\n",
    "fig = go.Figure()\n",
    "fig.add_trace(go.Box(y=y0, name='Sample A'))\n",
    "fig.add_trace(go.Box(y=y1, name='Sample B'))\n",
    "fig.add_trace(go.Box(y=y2, name='Sample C'))\n",
    "\n",
    "fig.update_layout(title='Box Plots of Three Normal Distributions')\n",
    "fig.show()"
   ]
  }
 ],
 "metadata": {
  "kernelspec": {
   "display_name": "Python 3",
   "language": "python",
   "name": "python3"
  },
  "language_info": {
   "codemirror_mode": {
    "name": "ipython",
    "version": 3
   },
   "file_extension": ".py",
   "mimetype": "text/x-python",
   "name": "python",
   "nbconvert_exporter": "python",
   "pygments_lexer": "ipython3",
   "version": "3.8.5"
  }
 },
 "nbformat": 4,
 "nbformat_minor": 5
}
